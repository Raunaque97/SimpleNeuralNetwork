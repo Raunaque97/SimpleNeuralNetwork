{
 "cells": [
  {
   "cell_type": "code",
   "execution_count": 2,
   "metadata": {},
   "outputs": [],
   "source": [
    "import numpy as np\n",
    "import matplotlib.pyplot as plt"
   ]
  },
  {
   "cell_type": "code",
   "execution_count": 3,
   "metadata": {},
   "outputs": [],
   "source": [
    "def innitializeParams(dims,activations):\n",
    "    params={}\n",
    "    params['L']=len(activations)+1\n",
    "    for l in range(1,len(dims)):\n",
    "        params['W'+str(l)]=np.random.randn(dims[l],dims[l-1])/np.sqrt(dims[l-1])  #Xavier initialization\n",
    "        params['b'+str(l)]=np.random.randn(dims[l],1)/np.sqrt(dims[l-1])\n",
    "        params['layer'+str(l)+'activationType']=activations[l-1]\n",
    "    return params"
   ]
  },
  {
   "cell_type": "code",
   "execution_count": 4,
   "metadata": {},
   "outputs": [],
   "source": [
    "def activationFunc(X,activationType):\n",
    "    \n",
    "    if activationType == \"relu\":\n",
    "        Y=np.maximum(X,0)\n",
    "    elif activationType == \"sigmoid\":\n",
    "        Y=(np.tanh(X/2)+1)/2\n",
    "    elif activationType == \"tanh\":\n",
    "        Y=np.tanh(X)\n",
    "    elif activationType == \"linear\":\n",
    "        Y=X\n",
    "    \n",
    "    return Y"
   ]
  },
  {
   "cell_type": "code",
   "execution_count": 5,
   "metadata": {},
   "outputs": [],
   "source": [
    "def activationGrad(X,activationType):\n",
    "    \n",
    "    if activationType == \"relu\":\n",
    "        Y=(X>0)*1.0 # *1.0 converts bool to float\n",
    "    elif activationType == \"sigmoid\":\n",
    "        Y=(1.0 - np.square(np.tanh(X)))/4\n",
    "    elif activationType == \"tanh\":\n",
    "        Y=1.0 - np.square(np.tanh(X))\n",
    "    elif activationType == \"linear\":\n",
    "        Y=X/X\n",
    "        \n",
    "    return Y"
   ]
  },
  {
   "cell_type": "code",
   "execution_count": 6,
   "metadata": {},
   "outputs": [],
   "source": [
    "def forwardPass(X,params,dropProbs=None):\n",
    "    cache={}\n",
    "    L=params['L']\n",
    "    A_prev = X\n",
    "    cache['A0']=X\n",
    "    for l in range(1,L):\n",
    "        Zl = np.dot(params['W'+str(l)],A_prev) + params['b'+str(l)]\n",
    "        Al = activationFunc(Zl,params['layer'+str(l)+'activationType'])\n",
    "        if dropProbs is not None:\n",
    "            Dl = np.random.rand(*Al.shape)\n",
    "            Dl = (Dl <= dropProbs[l-1])\n",
    "            Al = Al*Dl\n",
    "            Al = Al/dropProbs[l-1]\n",
    "            cache['D'+str(l)] = Dl\n",
    "            \n",
    "        cache['Z'+str(l)] = Zl\n",
    "        cache['A'+str(l)] = Al\n",
    "        A_prev = Al\n",
    "    y=A_prev\n",
    "    \n",
    "    return y,cache"
   ]
  },
  {
   "cell_type": "code",
   "execution_count": 7,
   "metadata": {},
   "outputs": [],
   "source": [
    "def ComputeCost(Y,y,params,cost='mse',regularization='none',lamda=0.01):\n",
    "    m=y.shape[1]\n",
    "    if cost=='mse':\n",
    "        Loss = np.sum(np.square(Y-y))/(2*m)\n",
    "    elif cost=='cross-entropy':\n",
    "        logprobs = np.multiply(-np.log(y),Y) + np.multiply(-np.log(1 - y), 1 - Y)\n",
    "        Loss = (1./m)* np.nansum(logprobs)\n",
    "    \n",
    "    #regularisations\n",
    "    L=params['L']\n",
    "    for l in range(1,L):\n",
    "        if regularization=='L2':\n",
    "            Loss = Loss + lamda*np.sum(np.square(params['W'+str(l)]))/(2*m)\n",
    "        elif regularization=='L1':\n",
    "            Loss = Loss + lamda*np.sum(np.abs(params['W'+str(l)]))/(2*m)\n",
    "    return Loss"
   ]
  },
  {
   "cell_type": "code",
   "execution_count": 8,
   "metadata": {},
   "outputs": [],
   "source": [
    "def GradCost(Y,y,cost='mse'):    #depends on relgularizaton but will cancell anyways\n",
    "    if cost=='mse':\n",
    "        dy = y-Y\n",
    "    elif cost=='cross-entropy':\n",
    "        dy = (y-Y)/(y*(1-y))\n",
    "    return dy"
   ]
  },
  {
   "cell_type": "code",
   "execution_count": 9,
   "metadata": {},
   "outputs": [],
   "source": [
    "def backwardPass(Y,y,params,cache,dropProbs=None,cost='mse',regularization='none',lamda=0.01):\n",
    "    \n",
    "    dAl = GradCost(Y,y,cost)\n",
    "    L=params['L']\n",
    "    m=Y.shape[1]\n",
    "    grads={}\n",
    "    for l in reversed(range(1,L)):\n",
    "        dZl = dAl*activationGrad(cache['Z'+str(l)],params['layer'+str(l)+'activationType'])\n",
    "        grads['dW'+str(l)] = np.dot(dZl,cache['A'+str(l-1)].T)/m\n",
    "        grads['db'+str(l)] = np.sum(dZl,axis=1,keepdims=True)/m\n",
    "        \n",
    "        if regularization=='L2':\n",
    "            grads['dW'+str(l)] = grads['dW'+str(l)] + (lamda/m)*params['W'+str(l)]\n",
    "        elif regularization=='L1':\n",
    "            grads['dW'+str(l)] = grads['dW'+str(l)] + (lamda/m)*np.sign(params['W'+str(l)])\n",
    "        dAl = np.dot(params['W'+str(l)].T,dZl)\n",
    "    return grads  "
   ]
  },
  {
   "cell_type": "code",
   "execution_count": 10,
   "metadata": {},
   "outputs": [],
   "source": [
    "def updateParams(params,grads,learningRate,optimizer='gd',beta=0.9,beta1=.9,beta2=.999,eps=1e-10):\n",
    "    L=params['L']\n",
    "    if optimizer == 'gradientDecent' or optimizer=='gd':\n",
    "        for l in range(1,L):\n",
    "            params['W'+str(l)] = params['W'+str(l)] - learningRate*grads['dW'+str(l)]\n",
    "            params['b'+str(l)] = params['b'+str(l)] - learningRate*grads['db'+str(l)]\n",
    "        \n",
    "    elif optimizer=='momentum':            \n",
    "        for l in range(1,L):\n",
    "            if ('vdW'+str(l)) not in params:    #first time only\n",
    "                params['vdW'+str(l)]=np.zeros(params['W'+str(l)].shape)\n",
    "                params['vdb'+str(l)]=np.zeros(params['b'+str(l)].shape)\n",
    "            #update velocity\n",
    "            params['vdW'+str(l)] = beta*params['vdW'+str(l)] + (1-beta)*grads['dW' + str(l)]\n",
    "            params['vdb'+str(l)] = beta*params['vdb'+str(l)] + (1-beta)*grads['db' + str(l)]\n",
    "        \n",
    "            params['W'+str(l)] = params['W'+str(l)] - learningRate*params['vdW'+str(l)]\n",
    "            params['b'+str(l)] = params['b'+str(l)] - learningRate*params['vdb'+str(l)]\n",
    "        \n",
    "    elif optimizer=='rmsprop':\n",
    "        for l in range(1,L):\n",
    "            if ('sdW'+str(l)) not in params:    #first time only\n",
    "                params['sdW'+str(l)]=np.zeros(params['W'+str(l)].shape)\n",
    "                params['sdb'+str(l)]=np.zeros(params['b'+str(l)].shape)\n",
    "            #update sq of magnitude of grads\n",
    "            params['sdW'+str(l)] = beta*params['sdW'+str(l)] + (1-beta)*np.square(grads['dW' + str(l)])\n",
    "            params['sdb'+str(l)] = beta*params['sdb'+str(l)] + (1-beta)*np.square(grads['db' + str(l)])\n",
    "            \n",
    "            params['W'+str(l)] = params['W'+str(l)] - learningRate*grads['dW'+str(l)]/np.sqrt(params['sdW'+str(l)]+eps)\n",
    "            params['b'+str(l)] = params['b'+str(l)] - learningRate*grads['db'+str(l)]/np.sqrt(params['sdb'+str(l)]+eps)\n",
    "        \n",
    "    elif optimizer=='adam':\n",
    "        for l in range(1,L):\n",
    "            if ('vdW'+str(l)) not in params:    #first time only  for 'bias correction' \n",
    "                params['vdW'+str(l)]=grads['dW' + str(l)]\n",
    "                params['vdb'+str(l)]=grads['db' + str(l)]\n",
    "                params['sdW'+str(l)]=np.square(grads['dW' + str(l)])\n",
    "                params['sdb'+str(l)]=np.square(grads['db' + str(l)])\n",
    "            else:\n",
    "                params['vdW'+str(l)] = beta*params['vdW'+str(l)] + (1-beta)*grads['dW' + str(l)]\n",
    "                params['vdb'+str(l)] = beta*params['vdb'+str(l)] + (1-beta)*grads['db' + str(l)]\n",
    "                params['sdW'+str(l)] = beta*params['sdW'+str(l)] + (1-beta)*np.square(grads['dW' + str(l)])\n",
    "                params['sdb'+str(l)] = beta*params['sdb'+str(l)] + (1-beta)*np.square(grads['db' + str(l)])\n",
    "            \n",
    "            params['W'+str(l)] = params['W'+str(l)] - learningRate*params['vdW'+str(l)]/np.sqrt(params['sdW'+str(l)]+eps)\n",
    "            params['b'+str(l)] = params['b'+str(l)] - learningRate*params['vdb'+str(l)]/np.sqrt(params['sdb'+str(l)]+eps)\n"
   ]
  },
  {
   "cell_type": "code",
   "execution_count": 11,
   "metadata": {},
   "outputs": [],
   "source": [
    "def train(X,Y,params,steps,learningRate,optimizer='gd',cost='mse',regularization='none',lamda=0.01,dropProbs=None,showCost=False):\n",
    "    for i in range(steps):\n",
    "        y,cache = forwardPass(X,params,dropProbs)\n",
    "        if showCost==True and i%200==0:\n",
    "            print('step '+ str(i)+':'+str(ComputeCost(Y,y,params,cost,regularization,lamda)))\n",
    "        grads = backwardPass(Y,y,params,cache,dropProbs,cost)\n",
    "        updateParams(params,grads,learningRate,optimizer)"
   ]
  },
  {
   "cell_type": "code",
   "execution_count": 12,
   "metadata": {},
   "outputs": [],
   "source": [
    "def normalise(X):\n",
    "    mu = np.mean(X,axis=1,keepdims=True)\n",
    "    sigma = np.sqrt(np.mean( np.square(X-mu),axis=1,keepdims=True ))\n",
    "    X=(X-mu)/(sigma + 1e-10)\n",
    "    return X,mu,sigma"
   ]
  },
  {
   "cell_type": "code",
   "execution_count": 13,
   "metadata": {},
   "outputs": [
    {
     "name": "stdout",
     "output_type": "stream",
     "text": [
      "step 0:0.532547481243\n",
      "step 200:0.000911359870236\n",
      "step 400:0.000458145549883\n",
      "step 600:0.000390995009686\n",
      "step 800:0.000393123375924\n"
     ]
    },
    {
     "data": {
      "image/png": "[encoded data removed]",
      "text/plain": [
       "<matplotlib.figure.Figure at 0x7f7f1527aef0>"
      ]
     },
     "metadata": {},
     "output_type": "display_data"
    }
   ],
   "source": [
    "X = np.random.rand(1,200)*6 -3\n",
    "Y = X**3/9 - X**2/6 - X + 0.5\n",
    "\n",
    "params = innitializeParams([1,16,1],['relu','linear'])\n",
    "Xhat,_,_ = normalise(X)\n",
    "train(Xhat,Y,params,1000,0.01,optimizer='adam',showCost=True,cost='mse',regularization='none')\n",
    "\n",
    "y,_ = forwardPass(Xhat,params)\n",
    "plt.scatter(X,Y)\n",
    "plt.scatter(X,y)\n",
    "plt.show()\n"
   ]
  },
  {
   "cell_type": "code",
   "execution_count": 14,
   "metadata": {},
   "outputs": [
    {
     "name": "stdout",
     "output_type": "stream",
     "text": [
      "\n"
     ]
    }
   ],
   "source": [
    "print()"
   ]
  }
 ],
 "metadata": {
  "kernelspec": {
   "display_name": "Python 3",
   "language": "python",
   "name": "python3"
  },
  "language_info": {
   "codemirror_mode": {
    "name": "ipython",
    "version": 3
   },
   "file_extension": ".py",
   "mimetype": "text/x-python",
   "name": "python",
   "nbconvert_exporter": "python",
   "pygments_lexer": "ipython3",
   "version": "3.5.2"
  }
 },
 "nbformat": 4,
 "nbformat_minor": 2
}
